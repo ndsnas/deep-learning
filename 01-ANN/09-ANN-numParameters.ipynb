{
 "cells": [
  {
   "cell_type": "code",
   "execution_count": 1,
   "metadata": {},
   "outputs": [],
   "source": [
    "import numpy as np\n",
    "import torch\n",
    "import torch.nn as nn"
   ]
  },
  {
   "cell_type": "code",
   "execution_count": 8,
   "metadata": {},
   "outputs": [
    {
     "name": "stdout",
     "output_type": "stream",
     "text": [
      "Sequential(\n",
      "  (0): Linear(in_features=2, out_features=4, bias=True)\n",
      "  (1): Linear(in_features=4, out_features=3, bias=True)\n",
      ")\n",
      " \n",
      "Sequential(\n",
      "  (0): Linear(in_features=2, out_features=4, bias=True)\n",
      "  (1): Linear(in_features=4, out_features=2, bias=True)\n",
      "  (2): Linear(in_features=2, out_features=3, bias=True)\n",
      ")\n"
     ]
    }
   ],
   "source": [
    "\n",
    "# wide network: having more number of units\n",
    "widenet = nn.Sequential(\n",
    "    nn.Linear(2,4),\n",
    "    nn.Linear(4,3)\n",
    ")\n",
    "\n",
    "# deep network: having more number of layers\n",
    "deepnet = nn.Sequential(\n",
    "    nn.Linear(2,4),\n",
    "    nn.Linear(4,2),\n",
    "    nn.Linear(2,3)\n",
    ")\n",
    "\n",
    "print(widenet)\n",
    "print(' ')\n",
    "print(deepnet)"
   ]
  },
  {
   "cell_type": "code",
   "execution_count": 9,
   "metadata": {},
   "outputs": [
    {
     "name": "stdout",
     "output_type": "stream",
     "text": [
      "('0.weight', Parameter containing:\n",
      "tensor([[ 0.5606, -0.5118],\n",
      "        [-0.1968,  0.6088],\n",
      "        [-0.3864,  0.5486],\n",
      "        [-0.1962,  0.0984]], requires_grad=True))\n",
      " \n",
      "('0.bias', Parameter containing:\n",
      "tensor([-0.2963,  0.0128,  0.1860, -0.7004], requires_grad=True))\n",
      " \n",
      "('1.weight', Parameter containing:\n",
      "tensor([[-0.4420,  0.2857, -0.4000, -0.1130],\n",
      "        [ 0.3113, -0.4394,  0.4108, -0.1991]], requires_grad=True))\n",
      " \n",
      "('1.bias', Parameter containing:\n",
      "tensor([0.3584, 0.2066], requires_grad=True))\n",
      " \n",
      "('2.weight', Parameter containing:\n",
      "tensor([[-0.0228,  0.4942],\n",
      "        [ 0.5134, -0.4814],\n",
      "        [-0.6418, -0.1662]], requires_grad=True))\n",
      " \n",
      "('2.bias', Parameter containing:\n",
      "tensor([-0.5471, -0.0544, -0.0927], requires_grad=True))\n",
      " \n"
     ]
    }
   ],
   "source": [
    "# check parameters\n",
    "for p in deepnet.named_parameters():\n",
    "    print(p)\n",
    "    print(\" \")"
   ]
  },
  {
   "cell_type": "code",
   "execution_count": 10,
   "metadata": {},
   "outputs": [
    {
     "name": "stdout",
     "output_type": "stream",
     "text": [
      "number of nodes in wide network = 7\n",
      "number of nodes in deep network = 9\n"
     ]
    }
   ],
   "source": [
    "# count the number of nodes ( = the number of biases, because each node has 1 bias)\n",
    "\n",
    "numNodesInWide = 0\n",
    "for p in widenet.named_parameters():\n",
    "    if 'bias' in p[0]:\n",
    "        numNodesInWide += len(p[1])\n",
    "\n",
    "\n",
    "numNodesInDeep = 0\n",
    "for p in deepnet.named_parameters():\n",
    "    if 'bias' in p[0]:\n",
    "        numNodesInDeep += len(p[1])\n",
    "\n",
    "print('number of nodes in wide network = %s' %numNodesInWide)\n",
    "print('number of nodes in deep network = %s' %numNodesInDeep)\n"
   ]
  },
  {
   "cell_type": "code",
   "execution_count": 12,
   "metadata": {},
   "outputs": [
    {
     "name": "stdout",
     "output_type": "stream",
     "text": [
      "Parameter containing:\n",
      "tensor([[-0.6430,  0.0252],\n",
      "        [-0.3161,  0.0916],\n",
      "        [-0.1681,  0.6442],\n",
      "        [-0.2973,  0.2794]], requires_grad=True)\n",
      "Parameter containing:\n",
      "tensor([-0.2417,  0.6168,  0.4603, -0.0376], requires_grad=True)\n",
      "Parameter containing:\n",
      "tensor([[-0.0518,  0.3019, -0.4385, -0.0741],\n",
      "        [ 0.1513, -0.0060,  0.1908, -0.3846],\n",
      "        [ 0.0278, -0.1474, -0.2976,  0.1015]], requires_grad=True)\n",
      "Parameter containing:\n",
      "tensor([-0.2698, -0.3144,  0.3840], requires_grad=True)\n"
     ]
    }
   ],
   "source": [
    "# priniting just the parameters, not the 'named' parametes\n",
    "for p in widenet.parameters():\n",
    "    print(p)"
   ]
  },
  {
   "cell_type": "code",
   "execution_count": 13,
   "metadata": {},
   "outputs": [
    {
     "name": "stdout",
     "output_type": "stream",
     "text": [
      "27\n"
     ]
    }
   ],
   "source": [
    "# number of trainable parameters ( = requires_grad==True \n",
    "#                                    because when requires_grad is True then backpropagation updates the parameters )\n",
    "\n",
    "numTrainParams = 0\n",
    "\n",
    "for p in widenet.parameters():\n",
    "    if p.requires_grad:\n",
    "        numTrainParams += p.numel() # numel returns the number of elements in the tensor\n",
    "print(numTrainParams)"
   ]
  },
  {
   "cell_type": "code",
   "execution_count": 15,
   "metadata": {},
   "outputs": [
    {
     "name": "stdout",
     "output_type": "stream",
     "text": [
      "27\n"
     ]
    }
   ],
   "source": [
    "# another way\n",
    "numTrainParams = np.sum([p.numel() for p in widenet.parameters() if p.requires_grad])\n",
    "print(numTrainParams)"
   ]
  },
  {
   "cell_type": "code",
   "execution_count": 41,
   "metadata": {},
   "outputs": [
    {
     "name": "stdout",
     "output_type": "stream",
     "text": [
      "-----------------------------------------------------------------------\n",
      "      Layer (type)        Output Shape         Param #     Tr. Param #\n",
      "=======================================================================\n",
      "          Linear-1              [3, 4]              12              12\n",
      "          Linear-2              [3, 3]              15              15\n",
      "=======================================================================\n",
      "Total params: 27\n",
      "Trainable params: 27\n",
      "Non-trainable params: 0\n",
      "-----------------------------------------------------------------------\n",
      "\n",
      "\n",
      "======================= Hierarchical Summary =======================\n",
      "\n",
      "Sequential(\n",
      "  (0): Linear(in_features=2, out_features=4, bias=True), 12 params\n",
      "  (1): Linear(in_features=4, out_features=3, bias=True), 15 params\n",
      "), 27 params\n",
      "\n",
      "\n",
      "====================================================================\n",
      "\n"
     ]
    }
   ],
   "source": [
    "from pytorch_model_summary import summary\n",
    "print(summary(widenet,torch.zeros((3, 2)),show_hierarchical=True))\n"
   ]
  }
 ],
 "metadata": {
  "kernelspec": {
   "display_name": "zoro",
   "language": "python",
   "name": "python3"
  },
  "language_info": {
   "codemirror_mode": {
    "name": "ipython",
    "version": 3
   },
   "file_extension": ".py",
   "mimetype": "text/x-python",
   "name": "python",
   "nbconvert_exporter": "python",
   "pygments_lexer": "ipython3",
   "version": "3.10.13"
  }
 },
 "nbformat": 4,
 "nbformat_minor": 2
}
