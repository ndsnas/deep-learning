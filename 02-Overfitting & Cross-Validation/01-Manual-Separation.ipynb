{
 "cells": [
  {
   "cell_type": "code",
   "execution_count": 4,
   "metadata": {},
   "outputs": [],
   "source": [
    "import torch\n",
    "import torch.nn as nn\n",
    "import numpy as np\n",
    "import matplotlib.pyplot as plt\n",
    "import matplotlib_inline\n",
    "matplotlib_inline.backend_inline.set_matplotlib_formats('svg')"
   ]
  },
  {
   "cell_type": "code",
   "execution_count": 2,
   "metadata": {},
   "outputs": [
    {
     "data": {
      "text/html": [
       "<div>\n",
       "<style scoped>\n",
       "    .dataframe tbody tr th:only-of-type {\n",
       "        vertical-align: middle;\n",
       "    }\n",
       "\n",
       "    .dataframe tbody tr th {\n",
       "        vertical-align: top;\n",
       "    }\n",
       "\n",
       "    .dataframe thead th {\n",
       "        text-align: right;\n",
       "    }\n",
       "</style>\n",
       "<table border=\"1\" class=\"dataframe\">\n",
       "  <thead>\n",
       "    <tr style=\"text-align: right;\">\n",
       "      <th></th>\n",
       "      <th>sepal_length</th>\n",
       "      <th>sepal_width</th>\n",
       "      <th>petal_length</th>\n",
       "      <th>petal_width</th>\n",
       "      <th>species</th>\n",
       "    </tr>\n",
       "  </thead>\n",
       "  <tbody>\n",
       "    <tr>\n",
       "      <th>0</th>\n",
       "      <td>5.1</td>\n",
       "      <td>3.5</td>\n",
       "      <td>1.4</td>\n",
       "      <td>0.2</td>\n",
       "      <td>setosa</td>\n",
       "    </tr>\n",
       "    <tr>\n",
       "      <th>1</th>\n",
       "      <td>4.9</td>\n",
       "      <td>3.0</td>\n",
       "      <td>1.4</td>\n",
       "      <td>0.2</td>\n",
       "      <td>setosa</td>\n",
       "    </tr>\n",
       "    <tr>\n",
       "      <th>2</th>\n",
       "      <td>4.7</td>\n",
       "      <td>3.2</td>\n",
       "      <td>1.3</td>\n",
       "      <td>0.2</td>\n",
       "      <td>setosa</td>\n",
       "    </tr>\n",
       "    <tr>\n",
       "      <th>3</th>\n",
       "      <td>4.6</td>\n",
       "      <td>3.1</td>\n",
       "      <td>1.5</td>\n",
       "      <td>0.2</td>\n",
       "      <td>setosa</td>\n",
       "    </tr>\n",
       "    <tr>\n",
       "      <th>4</th>\n",
       "      <td>5.0</td>\n",
       "      <td>3.6</td>\n",
       "      <td>1.4</td>\n",
       "      <td>0.2</td>\n",
       "      <td>setosa</td>\n",
       "    </tr>\n",
       "  </tbody>\n",
       "</table>\n",
       "</div>"
      ],
      "text/plain": [
       "   sepal_length  sepal_width  petal_length  petal_width species\n",
       "0           5.1          3.5           1.4          0.2  setosa\n",
       "1           4.9          3.0           1.4          0.2  setosa\n",
       "2           4.7          3.2           1.3          0.2  setosa\n",
       "3           4.6          3.1           1.5          0.2  setosa\n",
       "4           5.0          3.6           1.4          0.2  setosa"
      ]
     },
     "execution_count": 2,
     "metadata": {},
     "output_type": "execute_result"
    }
   ],
   "source": [
    "# import and process data\n",
    "import ssl\n",
    "ssl._create_default_https_context = ssl._create_unverified_context\n",
    "import seaborn as sns\n",
    "iris = sns.load_dataset('iris')\n",
    "\n",
    "iris.head()"
   ]
  },
  {
   "cell_type": "code",
   "execution_count": 3,
   "metadata": {},
   "outputs": [],
   "source": [
    "# organise the data\n",
    "\n",
    "# convert from pandas df to tensor\n",
    "data = torch.tensor(iris[iris.columns[0:4]].values).float()\n",
    "\n",
    "# transform species to numbers\n",
    "labels = torch.zeros(len(data), dtype=torch.long)\n",
    "# labels[iris.species == 'setosa'] = 0 not required as already zeroes are there\n",
    "labels[iris.species == 'versicolor'] = 1\n",
    "labels[iris.species == 'virginica'] = 2"
   ]
  },
  {
   "cell_type": "markdown",
   "metadata": {},
   "source": [
    "### Separate data into test and train sets"
   ]
  },
  {
   "cell_type": "code",
   "execution_count": 36,
   "metadata": {},
   "outputs": [],
   "source": [
    "trainingProportion = 0.8 # 80% for training\n",
    "nTraining = int(len(labels)*trainingProportion) # 80% of the size of labels\n",
    "\n",
    "trainTestSelector = np.zeros(len(labels), dtype=bool) # bool array to determine which label is for training/testing\n",
    "\n",
    "# randmonly chosing nTraining numbers from an array [0, 1, ..len(labels)-1]. This will act as index for next step.\n",
    "items2use4train = np.random.choice(range(len(labels)), nTraining, replace=False) \n",
    "\n",
    "# setting True for all items2use4train indexes\n",
    "trainTestSelector[items2use4train] = True\n"
   ]
  },
  {
   "cell_type": "markdown",
   "metadata": {},
   "source": [
    "#### Testing whether the selected data is balanced"
   ]
  },
  {
   "cell_type": "code",
   "execution_count": 37,
   "metadata": {},
   "outputs": [
    {
     "name": "stdout",
     "output_type": "stream",
     "text": [
      "Average of full data: \n",
      "tensor(1.)\n",
      " \n",
      "Average of training data: \n",
      "tensor(0.9583)\n",
      " \n",
      "Average of testing data: \n",
      "tensor(1.1667)\n",
      " \n"
     ]
    }
   ],
   "source": [
    "print('Average of full data: ')\n",
    "print(torch.mean(labels.float())) # will be 1 because there are equal 0s, 1s and 2s\n",
    "print(' ')\n",
    "\n",
    "print('Average of training data: ')\n",
    "print(torch.mean(labels[trainTestSelector].float())) # should be close to 1\n",
    "print(' ')\n",
    "\n",
    "print('Average of testing data: ')\n",
    "print(torch.mean(labels[~trainTestSelector].float())) # should be close to 1\n",
    "print(' ')"
   ]
  },
  {
   "cell_type": "code",
   "execution_count": 38,
   "metadata": {},
   "outputs": [],
   "source": [
    "# Create the model\n",
    "\n",
    "ANNiris = nn.Sequential(\n",
    "    nn.Linear(4,64),\n",
    "    nn.ReLU(),\n",
    "    nn.Linear(64,64),\n",
    "    nn.ReLU(),\n",
    "    nn.Linear(64,3)\n",
    ")\n",
    "\n",
    "lossFunction = nn.CrossEntropyLoss() # SoftMax already included in the loss function\n",
    "\n",
    "optimizer = torch.optim.SGD(ANNiris.parameters(), lr=0.01)"
   ]
  },
  {
   "cell_type": "code",
   "execution_count": 39,
   "metadata": {},
   "outputs": [],
   "source": [
    "# train the model\n",
    "\n",
    "epochs = 1000\n",
    "\n",
    "losses = torch.zeros(epochs)\n",
    "ongoingAcc = []\n",
    "\n",
    "for epoch in range(epochs):\n",
    "    yHat = ANNiris(data[trainTestSelector])\n",
    "\n",
    "    loss = lossFunction(yHat, labels[trainTestSelector])\n",
    "    losses[epoch] = loss\n",
    "\n",
    "    optimizer.zero_grad()\n",
    "    loss.backward()\n",
    "    optimizer.step()\n",
    "\n",
    "    ongoingAcc.append( torch.mean((torch.argmax(yHat, axis=1) == labels[trainTestSelector]).float()) * 100 )\n"
   ]
  },
  {
   "cell_type": "code",
   "execution_count": 40,
   "metadata": {},
   "outputs": [
    {
     "name": "stdout",
     "output_type": "stream",
     "text": [
      "tensor(98.3333)\n",
      "tensor(100.)\n"
     ]
    }
   ],
   "source": [
    "# final forward pass using training data\n",
    "predictions = ANNiris(data[trainTestSelector])\n",
    "predictedLabels = torch.argmax(predictions, axis=1)\n",
    "trainAcc = torch.mean((predictedLabels==labels[trainTestSelector]).float())*100\n",
    "print(trainAcc)\n",
    "\n",
    "# final forward pass using testing data\n",
    "predictions = ANNiris(data[~trainTestSelector])\n",
    "predictedLabels = torch.argmax(predictions, axis=1)\n",
    "testAcc = torch.mean((predictedLabels==labels[~trainTestSelector]).float())*100\n",
    "print(testAcc)"
   ]
  }
 ],
 "metadata": {
  "kernelspec": {
   "display_name": "zoro",
   "language": "python",
   "name": "python3"
  },
  "language_info": {
   "codemirror_mode": {
    "name": "ipython",
    "version": 3
   },
   "file_extension": ".py",
   "mimetype": "text/x-python",
   "name": "python",
   "nbconvert_exporter": "python",
   "pygments_lexer": "ipython3",
   "version": "3.10.13"
  }
 },
 "nbformat": 4,
 "nbformat_minor": 2
}
