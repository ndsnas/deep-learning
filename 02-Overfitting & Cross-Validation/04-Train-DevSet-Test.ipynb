{
 "cells": [
  {
   "cell_type": "code",
   "execution_count": 3,
   "metadata": {},
   "outputs": [],
   "source": [
    "from sklearn.model_selection import train_test_split\n",
    "import numpy as np"
   ]
  },
  {
   "cell_type": "code",
   "execution_count": 19,
   "metadata": {},
   "outputs": [],
   "source": [
    "# create fake data\n",
    "fakedata = np.tile(np.array([1,2,3,4]),(10,1)) + np.tile(10*np.arange(1,11),(4,1)).T\n",
    "fakelabels = np.arange(10)>4"
   ]
  },
  {
   "cell_type": "code",
   "execution_count": 26,
   "metadata": {},
   "outputs": [
    {
     "name": "stdout",
     "output_type": "stream",
     "text": [
      "[[ 11  12  13  14]\n",
      " [ 31  32  33  34]\n",
      " [ 81  82  83  84]\n",
      " [101 102 103 104]\n",
      " [ 71  72  73  74]\n",
      " [ 61  62  63  64]\n",
      " [ 91  92  93  94]\n",
      " [ 21  22  23  24]]\n",
      " \n",
      "[[41 42 43 44]]\n",
      " \n",
      "[[51 52 53 54]]\n"
     ]
    }
   ],
   "source": [
    "# 3 parts of data: test, devset and test\n",
    "partitions = [0.8, 0.1, 0.1] \n",
    "\n",
    "train_data, test_TMP_data, train_labels, test_TMP_labels = train_test_split(fakedata, fakelabels, train_size=partitions[0])\n",
    "\n",
    "# we want 80%, 10% and 10%\n",
    "# currently we've 80%-20% cut from above line\n",
    "# now we want to split 20% into 10%-10% means in 2 equal halves i.e. 50%-50%\n",
    "# but partitions[1] is 0.1 i.e. 10%\n",
    "# so, we're finding out how much is partitions[1] of partitions[1]+partition[2]\n",
    "split = partitions[1]/sum(partitions[1:]) # it'll give 0.5\n",
    "\n",
    "devset_data, test_data, devset_labels, test_labels = train_test_split(test_TMP_data, test_TMP_labels, train_size=split)\n",
    "\n",
    "print(train_data)\n",
    "print(' ')\n",
    "print(devset_data)\n",
    "print(' ')\n",
    "print(test_data)\n",
    "\n",
    "# after this we can use dataLoader to bind data with their respective labels\n"
   ]
  }
 ],
 "metadata": {
  "kernelspec": {
   "display_name": "zoro",
   "language": "python",
   "name": "python3"
  },
  "language_info": {
   "codemirror_mode": {
    "name": "ipython",
    "version": 3
   },
   "file_extension": ".py",
   "mimetype": "text/x-python",
   "name": "python",
   "nbconvert_exporter": "python",
   "pygments_lexer": "ipython3",
   "version": "3.10.13"
  }
 },
 "nbformat": 4,
 "nbformat_minor": 2
}
