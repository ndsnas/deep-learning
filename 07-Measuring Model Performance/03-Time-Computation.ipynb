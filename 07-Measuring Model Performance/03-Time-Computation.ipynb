{
 "cells": [
  {
   "cell_type": "code",
   "execution_count": 1,
   "metadata": {},
   "outputs": [],
   "source": [
    "import numpy as np\n",
    "import torch\n",
    "import torch.nn as nn\n",
    "import torch.nn.functional as F\n",
    "from torch.utils.data import DataLoader,TensorDataset\n",
    "from sklearn.model_selection import train_test_split\n",
    "\n",
    "import matplotlib.pyplot as plt\n",
    "import matplotlib_inline\n",
    "matplotlib_inline.backend_inline.set_matplotlib_formats('svg')\n",
    "\n",
    "import sklearn.metrics as skm\n",
    "\n",
    "import time"
   ]
  },
  {
   "cell_type": "code",
   "execution_count": 2,
   "metadata": {},
   "outputs": [],
   "source": [
    "data = np.loadtxt(open('../00-Dataset/mnist_train_small.csv', 'rb'), delimiter=',')"
   ]
  },
  {
   "cell_type": "code",
   "execution_count": 3,
   "metadata": {},
   "outputs": [],
   "source": [
    "# extract labels and features\n",
    "labels = data[:,0]\n",
    "data = data[:,1:]\n",
    "# normalize the data to a range of [0, 1]\n",
    "dataNorm = data/np.max(data)"
   ]
  },
  {
   "cell_type": "code",
   "execution_count": 4,
   "metadata": {},
   "outputs": [],
   "source": [
    "# Convert to tensor\n",
    "dataT = torch.Tensor(dataNorm).float()\n",
    "labelsT = torch.Tensor(labels).long()"
   ]
  },
  {
   "cell_type": "code",
   "execution_count": 5,
   "metadata": {},
   "outputs": [],
   "source": [
    "# split the data\n",
    "train_data, test_data, train_label, test_label = train_test_split(dataT, labelsT, train_size=0.9)\n",
    "train_dataT = TensorDataset(train_data, train_label)\n",
    "test_dataT = TensorDataset(test_data, test_label)\n",
    "\n",
    "train_loader = DataLoader(train_dataT, batch_size=32, drop_last=True, shuffle=True)\n",
    "test_loader = DataLoader(test_dataT, batch_size=test_dataT.tensors[0].shape[0])"
   ]
  },
  {
   "cell_type": "code",
   "execution_count": 6,
   "metadata": {},
   "outputs": [],
   "source": [
    "class Model(nn.Module):\n",
    "    def __init__ (self):\n",
    "        super().__init__()\n",
    "\n",
    "        self.input = nn.Linear(784, 64)\n",
    "        self.h1 = nn.Linear(64, 32)\n",
    "        self.h2 = nn.Linear(32, 32)\n",
    "        self.output = nn.Linear(32, 10)\n",
    "\n",
    "    def forward(self, data):\n",
    "        x = F.relu(self.input(data))\n",
    "        x = F.relu(self.h1(x))\n",
    "        x = F.relu(self.h2(x))\n",
    "        x = self.output(x)\n",
    "        # x = torch.log_softmax(self.output(x), axis=1)\n",
    "        # log_softmax() because of NLLLoss instead of CrossEntropyLoss\n",
    "\n",
    "        return x"
   ]
  },
  {
   "cell_type": "code",
   "execution_count": 7,
   "metadata": {},
   "outputs": [],
   "source": [
    "def getModel():\n",
    "    ANN = Model()\n",
    "    lossFunction = nn.CrossEntropyLoss()\n",
    "    optimizer = torch.optim.Adam(params=ANN.parameters(), lr=0.01)\n",
    "\n",
    "    return ANN, lossFunction, optimizer"
   ]
  },
  {
   "cell_type": "code",
   "execution_count": 8,
   "metadata": {},
   "outputs": [],
   "source": [
    "def trainModel(ANN, lossFunction, optimizer):\n",
    "\n",
    "    trainingStartTime = time.process_time()\n",
    "\n",
    "    epochs = 10\n",
    "\n",
    "    losses = torch.zeros(epochs)\n",
    "    trainAcc = []\n",
    "    testAcc = []\n",
    "\n",
    "    for epochi in range(epochs):\n",
    "        batchAcc = []\n",
    "        batchLoss = []\n",
    "        for x, y in train_loader:\n",
    "            yHat = ANN.forward(x)\n",
    "            \n",
    "            loss = lossFunction(yHat, y)\n",
    "\n",
    "            optimizer.zero_grad()\n",
    "            loss.backward()\n",
    "            optimizer.step()\n",
    "\n",
    "            batchLoss.append(loss.item())\n",
    "            batchAcc.append(torch.mean((torch.argmax(yHat, axis=1)==y).float())*100)\n",
    "\n",
    "        trainAcc.append(np.mean(batchAcc))\n",
    "        losses[epochi] = np.mean(batchLoss)\n",
    "\n",
    "        X, Y = next(iter(test_loader))\n",
    "\n",
    "        with torch.no_grad():\n",
    "            pred = ANN(X)\n",
    "\n",
    "        testAcc.append(torch.mean((torch.argmax(pred, axis=1)==Y).float())*100)\n",
    "\n",
    "        # Finally, report the epoch number, computation time, and accuracy\n",
    "        comptime = time.process_time() - trainingStartTime\n",
    "        print(f'Epoch {epochi+1}/{epochs}, elapsed time: {comptime:.2f} sec, test accuracy {testAcc[-1]:.0f}%')\n",
    "\n",
    "    return trainAcc, testAcc, losses, ANN"
   ]
  },
  {
   "cell_type": "code",
   "execution_count": 9,
   "metadata": {},
   "outputs": [
    {
     "name": "stdout",
     "output_type": "stream",
     "text": [
      "Epoch 1/10, elapsed time: 4.14 sec, test accuracy 89%\n",
      "Epoch 2/10, elapsed time: 7.74 sec, test accuracy 94%\n",
      "Epoch 3/10, elapsed time: 11.64 sec, test accuracy 94%\n",
      "Epoch 4/10, elapsed time: 16.07 sec, test accuracy 93%\n",
      "Epoch 5/10, elapsed time: 20.35 sec, test accuracy 95%\n",
      "Epoch 6/10, elapsed time: 24.69 sec, test accuracy 95%\n",
      "Epoch 7/10, elapsed time: 28.99 sec, test accuracy 95%\n",
      "Epoch 8/10, elapsed time: 33.15 sec, test accuracy 94%\n",
      "Epoch 9/10, elapsed time: 37.43 sec, test accuracy 94%\n",
      "Epoch 10/10, elapsed time: 41.76 sec, test accuracy 95%\n"
     ]
    }
   ],
   "source": [
    "ANN, lossFunction, optimizer = getModel()\n",
    "trainAcc, testAcc, losses, ANN = trainModel(ANN, lossFunction, optimizer)"
   ]
  }
 ],
 "metadata": {
  "kernelspec": {
   "display_name": "zoro",
   "language": "python",
   "name": "python3"
  },
  "language_info": {
   "codemirror_mode": {
    "name": "ipython",
    "version": 3
   },
   "file_extension": ".py",
   "mimetype": "text/x-python",
   "name": "python",
   "nbconvert_exporter": "python",
   "pygments_lexer": "ipython3",
   "version": "3.10.13"
  }
 },
 "nbformat": 4,
 "nbformat_minor": 2
}
