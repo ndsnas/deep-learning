{
 "cells": [
  {
   "cell_type": "code",
   "execution_count": 1,
   "metadata": {},
   "outputs": [],
   "source": [
    "import numpy as np\n",
    "import torch\n",
    "import torch.nn as nn"
   ]
  },
  {
   "cell_type": "markdown",
   "metadata": {},
   "source": [
    "### Convolve an image of size 1x256x256 to produce a 1x252x84 result"
   ]
  },
  {
   "cell_type": "code",
   "execution_count": 2,
   "metadata": {},
   "outputs": [
    {
     "name": "stdout",
     "output_type": "stream",
     "text": [
      "Expected size: [  1 252  84]\n",
      "Empirical size: [252, 84]\n"
     ]
    }
   ],
   "source": [
    "inChans = 1\n",
    "imsize = [256, 256]\n",
    "outChans = 1\n",
    "krnSize = 7\n",
    "stride = (1, 3)\n",
    "padding = 1\n",
    "\n",
    "c = nn.Conv2d(inChans, outChans, krnSize, stride, padding)\n",
    "\n",
    "img = torch.rand(1, inChans, imsize[0], imsize[1])\n",
    "\n",
    "resimg = c(img)\n",
    "empSize = torch.squeeze(resimg).shape\n",
    "\n",
    "expectSize = np.array([outChans, 0, 0], dtype=int)\n",
    "expectSize[1] = np.floor((imsize[0]+2*padding-krnSize)/stride[0])+1\n",
    "expectSize[2] = np.floor((imsize[1]+2*padding-krnSize)/stride[1])+1\n",
    "\n",
    "print(f'Expected size: {expectSize}')\n",
    "print(f'Empirical size: {list(empSize)}')"
   ]
  },
  {
   "cell_type": "markdown",
   "metadata": {},
   "source": [
    "### Convolve an image of size 3x64x64 to produce a 10x28x28 result"
   ]
  },
  {
   "cell_type": "code",
   "execution_count": 3,
   "metadata": {},
   "outputs": [
    {
     "name": "stdout",
     "output_type": "stream",
     "text": [
      "Expected size: [10 28 28]\n",
      "Empirical size: [10, 28, 28]\n"
     ]
    }
   ],
   "source": [
    "inChans = 3\n",
    "imsize = [64, 64]\n",
    "outChans = 10\n",
    "krnSize = 11\n",
    "stride = (2, 2)\n",
    "padding = 1\n",
    "\n",
    "c = nn.Conv2d(inChans, outChans, krnSize, stride, padding)\n",
    "\n",
    "img = torch.rand(1, inChans, imsize[0], imsize[1])\n",
    "\n",
    "resimg = c(img)\n",
    "empSize = torch.squeeze(resimg).shape\n",
    "\n",
    "expectSize = np.array([outChans, 0, 0], dtype=int)\n",
    "expectSize[1] = np.floor((imsize[0]+2*padding-krnSize)/stride[0])+1\n",
    "expectSize[2] = np.floor((imsize[1]+2*padding-krnSize)/stride[1])+1\n",
    "\n",
    "print(f'Expected size: {expectSize}')\n",
    "print(f'Empirical size: {list(empSize)}')"
   ]
  },
  {
   "cell_type": "markdown",
   "metadata": {},
   "source": [
    "### Convolve an image of size 3x196x96 to produce a 5x66x49 result"
   ]
  },
  {
   "cell_type": "code",
   "execution_count": 4,
   "metadata": {},
   "outputs": [
    {
     "name": "stdout",
     "output_type": "stream",
     "text": [
      "Expected size: [ 5 66 49]\n",
      "Empirical size: [5, 66, 49]\n"
     ]
    }
   ],
   "source": [
    "inChans = 3\n",
    "imsize = [196, 96]\n",
    "outChans = 5\n",
    "krnSize = 3\n",
    "stride = (3, 2)\n",
    "padding = 2\n",
    "\n",
    "c = nn.Conv2d(inChans, outChans, krnSize, stride, padding)\n",
    "\n",
    "img = torch.rand(1, inChans, imsize[0], imsize[1])\n",
    "\n",
    "resimg = c(img)\n",
    "empSize = torch.squeeze(resimg).shape\n",
    "\n",
    "expectSize = np.array([outChans, 0, 0], dtype=int)\n",
    "expectSize[1] = np.floor((imsize[0]+2*padding-krnSize)/stride[0])+1\n",
    "expectSize[2] = np.floor((imsize[1]+2*padding-krnSize)/stride[1])+1\n",
    "\n",
    "print(f'Expected size: {expectSize}')\n",
    "print(f'Empirical size: {list(empSize)}')"
   ]
  },
  {
   "cell_type": "markdown",
   "metadata": {},
   "source": [
    "### Convolve an image of size 1x32x32 to produce a 6x28x28 result"
   ]
  },
  {
   "cell_type": "code",
   "execution_count": 5,
   "metadata": {},
   "outputs": [
    {
     "name": "stdout",
     "output_type": "stream",
     "text": [
      "Expected size: [ 6 28 28]\n",
      "Empirical size: [6, 28, 28]\n"
     ]
    }
   ],
   "source": [
    "inChans = 1\n",
    "imsize = [32, 32]\n",
    "outChans = 6\n",
    "krnSize = 5\n",
    "stride = (1, 1)\n",
    "padding = 0\n",
    "\n",
    "c = nn.Conv2d(inChans, outChans, krnSize, stride, padding)\n",
    "\n",
    "img = torch.rand(1, inChans, imsize[0], imsize[1])\n",
    "\n",
    "resimg = c(img)\n",
    "empSize = torch.squeeze(resimg).shape\n",
    "\n",
    "expectSize = np.array([outChans, 0, 0], dtype=int)\n",
    "expectSize[1] = np.floor((imsize[0]+2*padding-krnSize)/stride[0])+1\n",
    "expectSize[2] = np.floor((imsize[1]+2*padding-krnSize)/stride[1])+1\n",
    "\n",
    "print(f'Expected size: {expectSize}')\n",
    "print(f'Empirical size: {list(empSize)}')"
   ]
  }
 ],
 "metadata": {
  "kernelspec": {
   "display_name": "zoro",
   "language": "python",
   "name": "python3"
  },
  "language_info": {
   "codemirror_mode": {
    "name": "ipython",
    "version": 3
   },
   "file_extension": ".py",
   "mimetype": "text/x-python",
   "name": "python",
   "nbconvert_exporter": "python",
   "pygments_lexer": "ipython3",
   "version": "3.10.13"
  }
 },
 "nbformat": 4,
 "nbformat_minor": 2
}
